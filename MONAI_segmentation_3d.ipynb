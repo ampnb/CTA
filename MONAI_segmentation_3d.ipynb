{
  "cells": [
    {
      "cell_type": "markdown",
      "metadata": {
        "id": "view-in-github",
        "colab_type": "text"
      },
      "source": [
        "<a href=\"https://colab.research.google.com/github/ampnb/CTA/blob/main/MONAI_segmentation_3d.ipynb\" target=\"_parent\"><img src=\"https://colab.research.google.com/assets/colab-badge.svg\" alt=\"Open In Colab\"/></a>"
      ]
    },
    {
      "cell_type": "markdown",
      "metadata": {
        "id": "A8bqj1Fwq9pe"
      },
      "source": [
        "Copyright (c) MONAI Consortium  \n",
        "Licensed under the Apache License, Version 2.0 (the \"License\");  \n",
        "you may not use this file except in compliance with the License.  \n",
        "You may obtain a copy of the License at  \n",
        "&nbsp;&nbsp;&nbsp;&nbsp;http://www.apache.org/licenses/LICENSE-2.0  \n",
        "Unless required by applicable law or agreed to in writing, software  \n",
        "distributed under the License is distributed on an \"AS IS\" BASIS,  \n",
        "WITHOUT WARRANTIES OR CONDITIONS OF ANY KIND, either express or implied.  \n",
        "See the License for the specific language governing permissions and  \n",
        "limitations under the License.\n",
        "\n",
        "# Spleen 3D segmentation with MONAI\n",
        "\n",
        "This tutorial shows how to integrate MONAI into an existing PyTorch medical DL program.\n",
        "\n",
        "And easily use below features:\n",
        "1. Transforms for dictionary format data.\n",
        "1. Load Nifti image with metadata.\n",
        "1. Add channel dim to the data if no channel dimension.\n",
        "1. Scale medical image intensity with expected range.\n",
        "1. Crop out a batch of balanced images based on positive / negative label ratio.\n",
        "1. Cache IO and transforms to accelerate training and validation.\n",
        "1. 3D UNet model, Dice loss function, Mean Dice metric for 3D segmentation task.\n",
        "1. Sliding window inference method.\n",
        "1. Deterministic training for reproducibility.\n",
        "\n",
        "The Spleen dataset can be downloaded from http://medicaldecathlon.com/.\n",
        "\n",
        "![spleen](https://github.com/Project-MONAI/tutorials/blob/main/figures/spleen0.png?raw=1)\n",
        "\n",
        "Target: Spleen  \n",
        "Modality: CT  \n",
        "Size: 61 3D volumes (41 Training + 20 Testing)  \n",
        "Source: Memorial Sloan Kettering Cancer Center  \n",
        "Challenge: Large ranging foreground size\n",
        "\n",
        "[![Open In Colab](https://colab.research.google.com/assets/colab-badge.svg)](https://colab.research.google.com/github/Project-MONAI/tutorials/blob/main/3d_segmentation/spleen_segmentation_3d.ipynb)"
      ]
    },
    {
      "cell_type": "markdown",
      "metadata": {
        "id": "YjQ73um9q9pg"
      },
      "source": [
        "## Setup environment"
      ]
    },
    {
      "cell_type": "code",
      "execution_count": 1,
      "metadata": {
        "id": "9G6MTT75q9pg",
        "outputId": "4fcb7d4f-8595-44a9-fd72-41ccbae88d9c",
        "colab": {
          "base_uri": "https://localhost:8080/"
        }
      },
      "outputs": [
        {
          "output_type": "stream",
          "name": "stdout",
          "text": [
            "Traceback (most recent call last):\n",
            "  File \"<string>\", line 1, in <module>\n",
            "ModuleNotFoundError: No module named 'monai'\n",
            "\u001b[2K     \u001b[90m━━━━━━━━━━━━━━━━━━━━━━━━━━━━━━━━━━━━━━━━\u001b[0m \u001b[32m1.3/1.3 MB\u001b[0m \u001b[31m14.0 MB/s\u001b[0m eta \u001b[36m0:00:00\u001b[0m\n",
            "\u001b[2K     \u001b[90m━━━━━━━━━━━━━━━━━━━━━━━━━━━━━━━━━━━━━━\u001b[0m \u001b[32m266.5/266.5 kB\u001b[0m \u001b[31m22.3 MB/s\u001b[0m eta \u001b[36m0:00:00\u001b[0m\n",
            "\u001b[?25h"
          ]
        }
      ],
      "source": [
        "!python -c \"import monai\" || pip install -q \"monai-weekly[gdown, nibabel, tqdm, ignite]\"\n",
        "!python -c \"import matplotlib\" || pip install -q matplotlib\n",
        "%matplotlib inline"
      ]
    },
    {
      "cell_type": "markdown",
      "metadata": {
        "id": "cExPjyLqq9pg"
      },
      "source": [
        "## Setup imports"
      ]
    },
    {
      "cell_type": "code",
      "execution_count": 2,
      "metadata": {
        "tags": [],
        "id": "oVNb5pzuq9ph",
        "outputId": "a28dcb7c-ae00-433a-8515-67848d542f55",
        "colab": {
          "base_uri": "https://localhost:8080/"
        }
      },
      "outputs": [
        {
          "output_type": "stream",
          "name": "stdout",
          "text": [
            "MONAI version: 1.3.dev2333\n",
            "Numpy version: 1.23.5\n",
            "Pytorch version: 2.0.1+cu118\n",
            "MONAI flags: HAS_EXT = False, USE_COMPILED = False, USE_META_DICT = False\n",
            "MONAI rev id: c894f452aca62cac1ff053c150aa8805a22ee65f\n",
            "MONAI __file__: /usr/local/lib/python3.10/dist-packages/monai/__init__.py\n",
            "\n",
            "Optional dependencies:\n",
            "Pytorch Ignite version: 0.4.11\n",
            "ITK version: NOT INSTALLED or UNKNOWN VERSION.\n",
            "Nibabel version: 4.0.2\n",
            "scikit-image version: 0.19.3\n",
            "scipy version: 1.10.1\n",
            "Pillow version: 9.4.0\n",
            "Tensorboard version: 2.12.3\n",
            "gdown version: 4.6.6\n",
            "TorchVision version: 0.15.2+cu118\n",
            "tqdm version: 4.66.1\n",
            "lmdb version: NOT INSTALLED or UNKNOWN VERSION.\n",
            "psutil version: 5.9.5\n",
            "pandas version: 1.5.3\n",
            "einops version: NOT INSTALLED or UNKNOWN VERSION.\n",
            "transformers version: NOT INSTALLED or UNKNOWN VERSION.\n",
            "mlflow version: NOT INSTALLED or UNKNOWN VERSION.\n",
            "pynrrd version: NOT INSTALLED or UNKNOWN VERSION.\n",
            "clearml version: NOT INSTALLED or UNKNOWN VERSION.\n",
            "\n",
            "For details about installing the optional dependencies, please visit:\n",
            "    https://docs.monai.io/en/latest/installation.html#installing-the-recommended-dependencies\n",
            "\n"
          ]
        }
      ],
      "source": [
        "from monai.utils import first, set_determinism\n",
        "from monai.transforms import (\n",
        "    AsDiscrete,\n",
        "    AsDiscreted,\n",
        "    EnsureChannelFirstd,\n",
        "    Compose,\n",
        "    CropForegroundd,\n",
        "    LoadImaged,\n",
        "    Orientationd,\n",
        "    RandCropByPosNegLabeld,\n",
        "    SaveImaged,\n",
        "    ScaleIntensityRanged,\n",
        "    Spacingd,\n",
        "    Invertd,\n",
        ")\n",
        "from monai.handlers.utils import from_engine\n",
        "from monai.networks.nets import UNet\n",
        "from monai.networks.layers import Norm\n",
        "from monai.metrics import DiceMetric\n",
        "from monai.losses import DiceLoss\n",
        "from monai.inferers import sliding_window_inference\n",
        "from monai.data import CacheDataset, DataLoader, Dataset, decollate_batch\n",
        "from monai.config import print_config\n",
        "from monai.apps import download_and_extract\n",
        "import torch\n",
        "import matplotlib.pyplot as plt\n",
        "import tempfile\n",
        "import shutil\n",
        "import os\n",
        "import glob\n",
        "import gzip\n",
        "import os\n",
        "from pathlib import Path\n",
        "from glob import glob  # Import the function, not the module\n",
        "\n",
        "print_config()"
      ]
    },
    {
      "cell_type": "markdown",
      "metadata": {
        "id": "bj2g92zJq9ph"
      },
      "source": [
        "## Setup data directory\n",
        "\n",
        "You can specify a directory with the `MONAI_DATA_DIRECTORY` environment variable.  \n",
        "This allows you to save results and reuse downloads.  \n",
        "If not specified a temporary directory will be used."
      ]
    },
    {
      "cell_type": "code",
      "execution_count": 3,
      "metadata": {
        "tags": [],
        "id": "MpYt7Ybmq9ph",
        "outputId": "ab3e1345-a1f0-455e-aad3-b5dabc0f1bf0",
        "colab": {
          "base_uri": "https://localhost:8080/"
        }
      },
      "outputs": [
        {
          "output_type": "stream",
          "name": "stdout",
          "text": [
            "/tmp/tmppx4nh0co\n"
          ]
        }
      ],
      "source": [
        "directory = os.environ.get(\"MONAI_DATA_DIRECTORY\")\n",
        "root_dir = tempfile.mkdtemp() if directory is None else directory\n",
        "print(root_dir)"
      ]
    },
    {
      "cell_type": "markdown",
      "metadata": {
        "id": "50YS71jZq9pi"
      },
      "source": [
        "## Download dataset\n",
        "\n",
        "Downloads and extracts the dataset.  \n",
        "The dataset comes from http://medicaldecathlon.com/."
      ]
    },
    {
      "cell_type": "code",
      "source": [
        "!gdown --id 1fdorF0WCgNu_Pu0Ox7xgwdJZy_5DBYL4"
      ],
      "metadata": {
        "id": "12rgi5U5PPFO",
        "colab": {
          "base_uri": "https://localhost:8080/"
        },
        "outputId": "fd3291f9-e3b7-4a40-b4c3-fb9ed5824820"
      },
      "execution_count": 4,
      "outputs": [
        {
          "output_type": "stream",
          "name": "stdout",
          "text": [
            "/usr/local/lib/python3.10/dist-packages/gdown/cli.py:121: FutureWarning: Option `--id` was deprecated in version 4.3.1 and will be removed in 5.0. You don't need to pass it anymore to use a file ID.\n",
            "  warnings.warn(\n",
            "Downloading...\n",
            "From: https://drive.google.com/uc?id=1fdorF0WCgNu_Pu0Ox7xgwdJZy_5DBYL4\n",
            "To: /content/CODEC-IV.zip\n",
            "100% 9.30G/9.30G [02:02<00:00, 75.9MB/s]\n"
          ]
        }
      ]
    },
    {
      "cell_type": "code",
      "source": [
        "!unzip -o CODEC-IV.zip"
      ],
      "metadata": {
        "id": "-vRkpCFdQ9dY"
      },
      "execution_count": null,
      "outputs": []
    },
    {
      "cell_type": "code",
      "execution_count": 18,
      "metadata": {
        "tags": [],
        "id": "J3NotsqWq9pi",
        "colab": {
          "base_uri": "https://localhost:8080/"
        },
        "outputId": "a8ed9880-c113-44f8-a758-83a7f3abd4ab"
      },
      "outputs": [
        {
          "output_type": "stream",
          "name": "stdout",
          "text": [
            "/content/CODEC-IV/sub-test111/sub-test111_MeanArterialPhase.nii.gz BAD\n",
            "/content/CODEC-IV/sub-test112/sub-test112_MeanArterialPhase.nii.gz BAD\n",
            "/content/CODEC-IV/sub-test113/sub-test113_MeanArterialPhase.nii.gz BAD\n",
            "/content/CODEC-IV/sub-test114/sub-test114_MeanArterialPhase.nii.gz BAD\n",
            "/content/CODEC-IV/sub-test115/sub-test115_MeanArterialPhase.nii.gz BAD\n",
            "/content/CODEC-IV/sub-test116/sub-test116_MeanArterialPhase.nii.gz BAD\n",
            "/content/CODEC-IV/sub-test117/sub-test117_MeanArterialPhase.nii.gz BAD\n",
            "/content/CODEC-IV/sub-test118/sub-test118_MeanArterialPhase.nii.gz BAD\n",
            "/content/CODEC-IV/sub-test119/sub-test119_MeanArterialPhase.nii.gz BAD\n",
            "/content/CODEC-IV/sub-test121/sub-test121_MeanArterialPhase.nii.gz BAD\n",
            "/content/CODEC-IV/sub-test124/sub-test124_MeanArterialPhase.nii.gz BAD\n",
            "/content/CODEC-IV/sub-test125/sub-test125_MeanArterialPhase.nii.gz BAD\n",
            "/content/CODEC-IV/sub-test127/sub-test127_MeanArterialPhase.nii.gz BAD\n",
            "/content/CODEC-IV/sub-test128/sub-test128_MeanArterialPhase.nii.gz BAD\n",
            "/content/CODEC-IV/sub-test130/sub-test130_MeanArterialPhase.nii.gz BAD\n",
            "/content/CODEC-IV/sub-test131/sub-test131_MeanArterialPhase.nii.gz BAD\n",
            "/content/CODEC-IV/sub-test134/sub-test134_MeanArterialPhase.nii.gz BAD\n",
            "/content/CODEC-IV/sub-test136/sub-test136_MeanArterialPhase.nii.gz BAD\n",
            "/content/CODEC-IV/sub-test137/sub-test137_MeanArterialPhase.nii.gz BAD\n",
            "/content/CODEC-IV/sub-test139/sub-test139_MeanArterialPhase.nii.gz BAD\n",
            "/content/CODEC-IV/sub-test140/sub-test140_MeanArterialPhase.nii.gz BAD\n",
            "/content/CODEC-IV/sub-test141/sub-test141_MeanArterialPhase.nii.gz BAD\n",
            "/content/CODEC-IV/sub-test142/sub-test142_MeanArterialPhase.nii.gz BAD\n",
            "/content/CODEC-IV/sub-test143/sub-test143_MeanArterialPhase.nii.gz BAD\n",
            "/content/CODEC-IV/sub-test144/sub-test144_MeanArterialPhase.nii.gz BAD\n",
            "/content/CODEC-IV/sub-test145/sub-test145_MeanArterialPhase.nii.gz BAD\n",
            "/content/CODEC-IV/sub-test146/sub-test146_MeanArterialPhase.nii.gz BAD\n",
            "/content/CODEC-IV/sub-test147/sub-test147_MeanArterialPhase.nii.gz BAD\n",
            "/content/CODEC-IV/sub-test148/sub-test148_MeanArterialPhase.nii.gz BAD\n",
            "/content/CODEC-IV/sub-test150/sub-test150_MeanArterialPhase.nii.gz BAD\n",
            "/content/CODEC-IV/sub-test151/sub-test151_MeanArterialPhase.nii.gz BAD\n",
            "/content/CODEC-IV/sub-test153/sub-test153_MeanArterialPhase.nii.gz BAD\n",
            "/content/CODEC-IV/sub-test155/sub-test155_MeanArterialPhase.nii.gz BAD\n",
            "/content/CODEC-IV/sub-test156/sub-test156_MeanArterialPhase.nii.gz BAD\n",
            "/content/CODEC-IV/sub-train003/sub-train003_MeanArterialPhase.nii.gz BAD\n",
            "/content/CODEC-IV/sub-train005/sub-train005_MeanArterialPhase.nii.gz BAD\n",
            "/content/CODEC-IV/sub-train007/sub-train007_MeanArterialPhase.nii.gz BAD\n",
            "/content/CODEC-IV/sub-train008/sub-train008_MeanArterialPhase.nii.gz BAD\n",
            "/content/CODEC-IV/sub-train010/sub-train010_MeanArterialPhase.nii.gz BAD\n",
            "/content/CODEC-IV/sub-train013/sub-train013_MeanArterialPhase.nii.gz BAD\n",
            "/content/CODEC-IV/sub-train014/sub-train014_MeanArterialPhase.nii.gz BAD\n",
            "/content/CODEC-IV/sub-train015/sub-train015_MeanArterialPhase.nii.gz BAD\n",
            "/content/CODEC-IV/sub-train017/sub-train017_MeanArterialPhase.nii.gz BAD\n",
            "/content/CODEC-IV/sub-train018/sub-train018_MeanArterialPhase.nii.gz BAD\n",
            "/content/CODEC-IV/sub-train019/sub-train019_MeanArterialPhase.nii.gz BAD\n",
            "/content/CODEC-IV/sub-train020/sub-train020_MeanArterialPhase.nii.gz BAD\n",
            "/content/CODEC-IV/sub-train022/sub-train022_MeanArterialPhase.nii.gz BAD\n",
            "/content/CODEC-IV/sub-train025/sub-train025_MeanArterialPhase.nii.gz BAD\n",
            "/content/CODEC-IV/sub-train027/sub-train027_MeanArterialPhase.nii.gz BAD\n",
            "/content/CODEC-IV/sub-train029/sub-train029_MeanArterialPhase.nii.gz BAD\n",
            "/content/CODEC-IV/sub-train032/sub-train032_MeanArterialPhase.nii.gz BAD\n",
            "/content/CODEC-IV/sub-train033/sub-train033_MeanArterialPhase.nii.gz BAD\n",
            "/content/CODEC-IV/sub-train034/sub-train034_MeanArterialPhase.nii.gz BAD\n",
            "/content/CODEC-IV/sub-train035/sub-train035_MeanArterialPhase.nii.gz BAD\n",
            "/content/CODEC-IV/sub-train036/sub-train036_MeanArterialPhase.nii.gz BAD\n",
            "/content/CODEC-IV/sub-train037/sub-train037_MeanArterialPhase.nii.gz BAD\n",
            "/content/CODEC-IV/sub-train038/sub-train038_MeanArterialPhase.nii.gz BAD\n",
            "/content/CODEC-IV/sub-train040/sub-train040_MeanArterialPhase.nii.gz BAD\n",
            "/content/CODEC-IV/sub-train043/sub-train043_MeanArterialPhase.nii.gz BAD\n",
            "/content/CODEC-IV/sub-train044/sub-train044_MeanArterialPhase.nii.gz BAD\n",
            "/content/CODEC-IV/sub-train046/sub-train046_MeanArterialPhase.nii.gz BAD\n",
            "/content/CODEC-IV/sub-train047/sub-train047_MeanArterialPhase.nii.gz BAD\n",
            "/content/CODEC-IV/sub-train048/sub-train048_MeanArterialPhase.nii.gz BAD\n",
            "/content/CODEC-IV/sub-train050/sub-train050_MeanArterialPhase.nii.gz BAD\n",
            "/content/CODEC-IV/sub-train051/sub-train051_MeanArterialPhase.nii.gz BAD\n",
            "/content/CODEC-IV/sub-train053/sub-train053_MeanArterialPhase.nii.gz BAD\n",
            "/content/CODEC-IV/sub-train054/sub-train054_MeanArterialPhase.nii.gz BAD\n",
            "/content/CODEC-IV/sub-train058/sub-train058_MeanArterialPhase.nii.gz BAD\n",
            "/content/CODEC-IV/sub-train059/sub-train059_MeanArterialPhase.nii.gz BAD\n",
            "/content/CODEC-IV/sub-train060/sub-train060_MeanArterialPhase.nii.gz BAD\n",
            "/content/CODEC-IV/sub-train062/sub-train062_MeanArterialPhase.nii.gz BAD\n",
            "/content/CODEC-IV/sub-train063/sub-train063_MeanArterialPhase.nii.gz BAD\n",
            "/content/CODEC-IV/sub-train064/sub-train064_MeanArterialPhase.nii.gz BAD\n",
            "/content/CODEC-IV/sub-train065/sub-train065_MeanArterialPhase.nii.gz BAD\n",
            "/content/CODEC-IV/sub-train066/sub-train066_MeanArterialPhase.nii.gz BAD\n",
            "/content/CODEC-IV/sub-train068/sub-train068_MeanArterialPhase.nii.gz BAD\n",
            "/content/CODEC-IV/sub-train069/sub-train069_MeanArterialPhase.nii.gz BAD\n",
            "/content/CODEC-IV/sub-train070/sub-train070_MeanArterialPhase.nii.gz BAD\n",
            "/content/CODEC-IV/sub-train071/sub-train071_MeanArterialPhase.nii.gz BAD\n",
            "/content/CODEC-IV/sub-train072/sub-train072_MeanArterialPhase.nii.gz BAD\n",
            "/content/CODEC-IV/sub-train074/sub-train074_MeanArterialPhase.nii.gz BAD\n",
            "/content/CODEC-IV/sub-train075/sub-train075_MeanArterialPhase.nii.gz BAD\n",
            "/content/CODEC-IV/sub-train076/sub-train076_MeanArterialPhase.nii.gz BAD\n",
            "/content/CODEC-IV/sub-train077/sub-train077_MeanArterialPhase.nii.gz BAD\n",
            "/content/CODEC-IV/sub-train079/sub-train079_MeanArterialPhase.nii.gz BAD\n",
            "/content/CODEC-IV/sub-train081/sub-train081_MeanArterialPhase.nii.gz BAD\n",
            "/content/CODEC-IV/sub-train083/sub-train083_MeanArterialPhase.nii.gz BAD\n",
            "/content/CODEC-IV/sub-train085/sub-train085_MeanArterialPhase.nii.gz BAD\n",
            "/content/CODEC-IV/sub-train086/sub-train086_MeanArterialPhase.nii.gz BAD\n",
            "/content/CODEC-IV/sub-train087/sub-train087_MeanArterialPhase.nii.gz BAD\n",
            "/content/CODEC-IV/sub-train088/sub-train088_MeanArterialPhase.nii.gz BAD\n",
            "/content/CODEC-IV/sub-train089/sub-train089_MeanArterialPhase.nii.gz BAD\n",
            "/content/CODEC-IV/sub-train092/sub-train092_MeanArterialPhase.nii.gz BAD\n",
            "/content/CODEC-IV/sub-train094/sub-train094_MeanArterialPhase.nii.gz BAD\n",
            "/content/CODEC-IV/sub-train096/sub-train096_MeanArterialPhase.nii.gz BAD\n",
            "/content/CODEC-IV/sub-train097/sub-train097_MeanArterialPhase.nii.gz BAD\n",
            "/content/CODEC-IV/sub-train098/sub-train098_MeanArterialPhase.nii.gz BAD\n",
            "/content/CODEC-IV/sub-train099/sub-train099_MeanArterialPhase.nii.gz BAD\n",
            "/content/CODEC-IV/sub-train101/sub-train101_MeanArterialPhase.nii.gz BAD\n",
            "/content/CODEC-IV/sub-train103/sub-train103_MeanArterialPhase.nii.gz BAD\n",
            "/content/CODEC-IV/sub-train106/sub-train106_MeanArterialPhase.nii.gz BAD\n"
          ]
        }
      ],
      "source": [
        "# resource = \"https://msd-for-monai.s3-us-west-2.amazonaws.com/Task09_Spleen.tar\"\n",
        "# md5 = \"410d4a301da4e5b2f6f86ec3ddba524e\"\n",
        "# removing gz extension solve the problem\n",
        "# https://github.com/nipy/nibabel/issues/898\n",
        "badfiles = []\n",
        "for filepath in sorted(glob('/content/CODEC-IV/**/*.gz')):\n",
        "    with gzip.open(filepath, 'r') as fh:\n",
        "        try:\n",
        "            fh.read(1)\n",
        "        except gzip.BadGzipFile:\n",
        "            print(f'{filepath} BAD')\n",
        "            badfiles.append(filepath)\n",
        "\n",
        "for filepath in badfiles:\n",
        "    new_filepath = Path(filepath).with_suffix('')\n",
        "    os.rename(filepath, new_filepath)\n",
        "# compressed_file = os.path.join(root_dir, \"Task09_Spleen.tar\")\n",
        "# data_dir = os.path.join(root_dir, \"Task09_Spleen\")\n",
        "# if not os.path.exists(data_dir):\n",
        "#     download_and_extract(resource, compressed_file, root_dir, md5)"
      ]
    },
    {
      "cell_type": "markdown",
      "metadata": {
        "id": "LVFkV-tWq9pi"
      },
      "source": [
        "## Set MSD Spleen dataset path"
      ]
    },
    {
      "cell_type": "code",
      "source": [
        "# train_images = sorted(glob.glob(os.path.join(data_dir, \"imagesTr\", \"*.nii.gz\")))\n",
        "# train_labels = sorted(glob.glob(os.path.join(data_dir, \"labelsTr\", \"*.nii.gz\")))\n",
        "train_images = sorted(glob(\"/content/CODEC-IV/sub-train*/*MeanArterialPhase.nii*\"))\n",
        "train_labels = sorted(glob(\"/content/CODEC-IV/sub-train*/*clot_annotation.nii*\"))\n",
        "\n",
        "data_dicts = [{\"image\": image_name, \"label\": label_name} for image_name, label_name in zip(train_images, train_labels)]\n",
        "train_files, val_files = data_dicts[:-11], data_dicts[-11:]"
      ],
      "metadata": {
        "id": "XdH316GZOS8f"
      },
      "execution_count": 19,
      "outputs": []
    },
    {
      "cell_type": "code",
      "source": [
        "train_images"
      ],
      "metadata": {
        "id": "XkpaL7_sJiPz"
      },
      "execution_count": null,
      "outputs": []
    },
    {
      "cell_type": "markdown",
      "metadata": {
        "id": "bcLkwNy_q9pi"
      },
      "source": [
        "## Set deterministic training for reproducibility"
      ]
    },
    {
      "cell_type": "code",
      "execution_count": 21,
      "metadata": {
        "id": "4xbeYCiUq9pi"
      },
      "outputs": [],
      "source": [
        "set_determinism(seed=0)"
      ]
    },
    {
      "cell_type": "markdown",
      "metadata": {
        "id": "moOtCMUiq9pi"
      },
      "source": [
        "## Setup transforms for training and validation\n",
        "\n",
        "Here we use several transforms to augment the dataset:\n",
        "1. `LoadImaged` loads the spleen CT images and labels from NIfTI format files.\n",
        "1. `EnsureChannelFirstd` ensures the original data to construct \"channel first\" shape.\n",
        "1. `Orientationd` unifies the data orientation based on the affine matrix.\n",
        "1. `Spacingd` adjusts the spacing by `pixdim=(1.5, 1.5, 2.)` based on the affine matrix.\n",
        "1. `ScaleIntensityRanged` extracts intensity range [-57, 164] and scales to [0, 1].\n",
        "1. `CropForegroundd` removes all zero borders to focus on the valid body area of the images and labels.\n",
        "1. `RandCropByPosNegLabeld` randomly crop patch samples from big image based on pos / neg ratio.  \n",
        "The image centers of negative samples must be in valid body area.\n",
        "1. `RandAffined` efficiently performs `rotate`, `scale`, `shear`, `translate`, etc. together based on PyTorch affine transform."
      ]
    },
    {
      "cell_type": "code",
      "execution_count": 40,
      "metadata": {
        "id": "b01MUKp-q9pi"
      },
      "outputs": [],
      "source": [
        "train_transforms = Compose(\n",
        "    [\n",
        "        LoadImaged(keys=[\"image\", \"label\"], image_only=False),\n",
        "        # LoadImaged(keys=[\"image\", \"label\"]),\n",
        "        EnsureChannelFirstd(keys=[\"image\", \"label\"]),\n",
        "        ScaleIntensityRanged(\n",
        "            keys=[\"image\"],\n",
        "            a_min=-57,\n",
        "            a_max=164,\n",
        "            b_min=0.0,\n",
        "            b_max=1.0,\n",
        "            clip=True,\n",
        "        ),\n",
        "        CropForegroundd(keys=[\"image\", \"label\"], source_key=\"image\", allow_smaller=True),\n",
        "        # CropForegroundd(keys=[\"image\", \"label\"], source_key=\"image\"),\n",
        "        Orientationd(keys=[\"image\", \"label\"], axcodes=\"RAS\"),\n",
        "        Spacingd(keys=[\"image\", \"label\"], pixdim=(1.5, 1.5, 2.0), mode=(\"bilinear\", \"nearest\")),\n",
        "        RandCropByPosNegLabeld(\n",
        "            keys=[\"image\", \"label\"],\n",
        "            label_key=\"label\",\n",
        "            spatial_size=(96, 96, 96),\n",
        "            pos=1,\n",
        "            neg=1,\n",
        "            num_samples=4,\n",
        "            image_key=\"image\",\n",
        "            image_threshold=0,\n",
        "        ),\n",
        "        # user can also add other random transforms\n",
        "        # RandAffined(\n",
        "        #     keys=['image', 'label'],\n",
        "        #     mode=('bilinear', 'nearest'),\n",
        "        #     prob=1.0, spatial_size=(96, 96, 96),\n",
        "        #     rotate_range=(0, 0, np.pi/15),\n",
        "        #     scale_range=(0.1, 0.1, 0.1)),\n",
        "    ]\n",
        ")\n",
        "val_transforms = Compose(\n",
        "    [\n",
        "        LoadImaged(keys=[\"image\", \"label\"]),\n",
        "        EnsureChannelFirstd(keys=[\"image\", \"label\"]),\n",
        "        ScaleIntensityRanged(\n",
        "            keys=[\"image\"],\n",
        "            a_min=-57,\n",
        "            a_max=164,\n",
        "            b_min=0.0,\n",
        "            b_max=1.0,\n",
        "            clip=True,\n",
        "        ),\n",
        "        CropForegroundd(keys=[\"image\", \"label\"], source_key=\"image\"),\n",
        "        Orientationd(keys=[\"image\", \"label\"], axcodes=\"RAS\"),\n",
        "        Spacingd(keys=[\"image\", \"label\"], pixdim=(1.5, 1.5, 2.0), mode=(\"bilinear\", \"nearest\")),\n",
        "    ]\n",
        ")"
      ]
    },
    {
      "cell_type": "markdown",
      "metadata": {
        "id": "RAa8KnHAq9pj"
      },
      "source": [
        "## Check transforms in DataLoader"
      ]
    },
    {
      "cell_type": "code",
      "source": [
        "# LoadImaged(keys=[\"image\", \"label\"], image_only=True)"
      ],
      "metadata": {
        "id": "gdSuX_z0Ueho"
      },
      "execution_count": 41,
      "outputs": []
    },
    {
      "cell_type": "code",
      "source": [
        "check_ds = Dataset(data=val_files, transform=val_transforms)\n",
        "check_loader = DataLoader(check_ds, batch_size=1)\n",
        "check_data = first(check_loader)\n",
        "\n",
        "image, label = (check_data[\"image\"][0][0], check_data[\"label\"][0][0])\n",
        "print(f\"image shape: {image.shape}, label shape: {label.shape}\")\n",
        "# plot the middle slice\n",
        "mid_slice = image.shape[2] // 2\n",
        "plt.figure(\"check\", (12, 6))\n",
        "plt.subplot(1, 2, 1)\n",
        "plt.title(\"image\")\n",
        "plt.imshow(image[:, :, mid_slice], cmap=\"gray\")\n",
        "plt.subplot(1, 2, 2)\n",
        "plt.title(\"label\")\n",
        "plt.imshow(label[:, :, mid_slice])\n",
        "plt.show()\n"
      ],
      "metadata": {
        "colab": {
          "base_uri": "https://localhost:8080/",
          "height": 498
        },
        "id": "MIG4MN0VdxH5",
        "outputId": "ac5a9ea4-e07f-4fd1-d75a-d167ba01a2fb"
      },
      "execution_count": 42,
      "outputs": [
        {
          "output_type": "stream",
          "name": "stdout",
          "text": [
            "image shape: torch.Size([127, 135, 80]), label shape: torch.Size([127, 135, 80])\n"
          ]
        },
        {
          "output_type": "display_data",
          "data": {
            "text/plain": [
              "<Figure size 1200x600 with 2 Axes>"
            ],
            "image/png": "[encoded data removed]"
          },
          "metadata": {}
        }
      ]
    },
    {
      "cell_type": "code",
      "execution_count": 43,
      "metadata": {
        "tags": [],
        "id": "X4Bj8MP4q9pj"
      },
      "outputs": [],
      "source": [
        "# check_ds = Dataset(data=val_files, transform=val_transforms)\n",
        "# check_loader = DataLoader(check_ds, batch_size=1)\n",
        "# check_data = first(check_loader)\n",
        "# image, label = (check_data[\"image\"][0][0], check_data[\"label\"][0][0])\n",
        "# print(f\"image shape: {image.shape}, label shape: {label.shape}\")\n",
        "# # plot the slice [:, :, 80]\n",
        "# plt.figure(\"check\", (12, 6))\n",
        "# plt.subplot(1, 2, 1)\n",
        "# plt.title(\"image\")\n",
        "# plt.imshow(image[:, :, 80], cmap=\"gray\")\n",
        "# plt.subplot(1, 2, 2)\n",
        "# plt.title(\"label\")\n",
        "# plt.imshow(label[:, :, 80])\n",
        "# plt.show()"
      ]
    },
    {
      "cell_type": "markdown",
      "metadata": {
        "id": "eHn14BbBq9pj"
      },
      "source": [
        "## Define CacheDataset and DataLoader for training and validation\n",
        "\n",
        "Here we use CacheDataset to accelerate training and validation process, it's 10x faster than the regular Dataset.  \n",
        "To achieve best performance, set `cache_rate=1.0` to cache all the data, if memory is not enough, set lower value.  \n",
        "Users can also set `cache_num` instead of `cache_rate`, will use the minimum value of the 2 settings.  \n",
        "And set `num_workers` to enable multi-threads during caching.  \n",
        "If want to to try the regular Dataset, just change to use the commented code below."
      ]
    },
    {
      "cell_type": "code",
      "execution_count": 44,
      "metadata": {
        "tags": [],
        "id": "jZi4oPXTq9pj",
        "colab": {
          "base_uri": "https://localhost:8080/"
        },
        "outputId": "b7d8c290-81dd-42e4-d1fb-87722e746bb2"
      },
      "outputs": [
        {
          "output_type": "stream",
          "name": "stderr",
          "text": [
            "Loading dataset: 100%|██████████| 98/98 [03:57<00:00,  2.42s/it]\n",
            "Loading dataset: 100%|██████████| 11/11 [00:19<00:00,  1.79s/it]\n"
          ]
        }
      ],
      "source": [
        "train_ds = CacheDataset(data=train_files, transform=train_transforms, cache_rate=1.0, num_workers=4)\n",
        "# train_ds = Dataset(data=train_files, transform=train_transforms)\n",
        "\n",
        "# use batch_size=2 to load images and use RandCropByPosNegLabeld\n",
        "# to generate 2 x 4 images for network training\n",
        "train_loader = DataLoader(train_ds, batch_size=2, shuffle=True, num_workers=4)\n",
        "\n",
        "val_ds = CacheDataset(data=val_files, transform=val_transforms, cache_rate=1.0, num_workers=4)\n",
        "# val_ds = Dataset(data=val_files, transform=val_transforms)\n",
        "val_loader = DataLoader(val_ds, batch_size=1, num_workers=4)"
      ]
    },
    {
      "cell_type": "markdown",
      "metadata": {
        "id": "I4e0f-mlq9pj"
      },
      "source": [
        "## Create Model, Loss, Optimizer"
      ]
    },
    {
      "cell_type": "code",
      "execution_count": 45,
      "metadata": {
        "id": "QFnOnCcOq9pj"
      },
      "outputs": [],
      "source": [
        "# standard PyTorch program style: create UNet, DiceLoss and Adam optimizer\n",
        "device = torch.device(\"cuda:0\")\n",
        "model = UNet(\n",
        "    spatial_dims=3,\n",
        "    in_channels=1,\n",
        "    out_channels=2,\n",
        "    channels=(16, 32, 64, 128, 256),\n",
        "    strides=(2, 2, 2, 2),\n",
        "    num_res_units=2,\n",
        "    norm=Norm.BATCH,\n",
        ").to(device)\n",
        "loss_function = DiceLoss(to_onehot_y=True, softmax=True)\n",
        "optimizer = torch.optim.Adam(model.parameters(), 1e-4)\n",
        "dice_metric = DiceMetric(include_background=False, reduction=\"mean\")"
      ]
    },
    {
      "cell_type": "markdown",
      "metadata": {
        "id": "WUwN_Kpdq9pj"
      },
      "source": [
        "## Execute a typical PyTorch training process"
      ]
    },
    {
      "cell_type": "code",
      "execution_count": 46,
      "metadata": {
        "scrolled": true,
        "tags": [],
        "id": "TL36-pHPq9pj",
        "outputId": "abf8c692-3b49-48c4-a923-2cc6e447652d",
        "colab": {
          "base_uri": "https://localhost:8080/",
          "height": 1000
        }
      },
      "outputs": [
        {
          "output_type": "stream",
          "name": "stdout",
          "text": [
            "----------\n",
            "epoch 1/600\n"
          ]
        },
        {
          "output_type": "stream",
          "name": "stderr",
          "text": [
            "/usr/local/lib/python3.10/dist-packages/monai/transforms/utils.py:562: UserWarning: Num foregrounds 0, Num backgrounds 660239, unable to generate class balanced samples, setting `pos_ratio` to 0.\n",
            "  warnings.warn(\n",
            "/usr/local/lib/python3.10/dist-packages/monai/transforms/utils.py:562: UserWarning: Num foregrounds 0, Num backgrounds 658458, unable to generate class balanced samples, setting `pos_ratio` to 0.\n",
            "  warnings.warn(\n",
            "/usr/local/lib/python3.10/dist-packages/monai/transforms/utils.py:562: UserWarning: Num foregrounds 0, Num backgrounds 709590, unable to generate class balanced samples, setting `pos_ratio` to 0.\n",
            "  warnings.warn(\n",
            "/usr/local/lib/python3.10/dist-packages/monai/transforms/utils.py:562: UserWarning: Num foregrounds 0, Num backgrounds 594960, unable to generate class balanced samples, setting `pos_ratio` to 0.\n",
            "  warnings.warn(\n",
            "/usr/local/lib/python3.10/dist-packages/monai/transforms/utils.py:562: UserWarning: Num foregrounds 0, Num backgrounds 655486, unable to generate class balanced samples, setting `pos_ratio` to 0.\n",
            "  warnings.warn(\n",
            "/usr/local/lib/python3.10/dist-packages/monai/transforms/utils.py:562: UserWarning: Num foregrounds 0, Num backgrounds 617123, unable to generate class balanced samples, setting `pos_ratio` to 0.\n",
            "  warnings.warn(\n"
          ]
        },
        {
          "output_type": "error",
          "ename": "RuntimeError",
          "evalue": "ignored",
          "traceback": [
            "\u001b[0;31m---------------------------------------------------------------------------\u001b[0m",
            "\u001b[0;31mRuntimeError\u001b[0m                              Traceback (most recent call last)",
            "\u001b[0;32m<ipython-input-46-ef27803e6cec>\u001b[0m in \u001b[0;36m<cell line: 10>\u001b[0;34m()\u001b[0m\n\u001b[1;32m     21\u001b[0m         )\n\u001b[1;32m     22\u001b[0m         \u001b[0moptimizer\u001b[0m\u001b[0;34m.\u001b[0m\u001b[0mzero_grad\u001b[0m\u001b[0;34m(\u001b[0m\u001b[0;34m)\u001b[0m\u001b[0;34m\u001b[0m\u001b[0;34m\u001b[0m\u001b[0m\n\u001b[0;32m---> 23\u001b[0;31m         \u001b[0moutputs\u001b[0m \u001b[0;34m=\u001b[0m \u001b[0mmodel\u001b[0m\u001b[0;34m(\u001b[0m\u001b[0minputs\u001b[0m\u001b[0;34m)\u001b[0m\u001b[0;34m\u001b[0m\u001b[0;34m\u001b[0m\u001b[0m\n\u001b[0m\u001b[1;32m     24\u001b[0m         \u001b[0mloss\u001b[0m \u001b[0;34m=\u001b[0m \u001b[0mloss_function\u001b[0m\u001b[0;34m(\u001b[0m\u001b[0moutputs\u001b[0m\u001b[0;34m,\u001b[0m \u001b[0mlabels\u001b[0m\u001b[0;34m)\u001b[0m\u001b[0;34m\u001b[0m\u001b[0;34m\u001b[0m\u001b[0m\n\u001b[1;32m     25\u001b[0m         \u001b[0mloss\u001b[0m\u001b[0;34m.\u001b[0m\u001b[0mbackward\u001b[0m\u001b[0;34m(\u001b[0m\u001b[0;34m)\u001b[0m\u001b[0;34m\u001b[0m\u001b[0;34m\u001b[0m\u001b[0m\n",
            "\u001b[0;32m/usr/local/lib/python3.10/dist-packages/torch/nn/modules/module.py\u001b[0m in \u001b[0;36m_call_impl\u001b[0;34m(self, *args, **kwargs)\u001b[0m\n\u001b[1;32m   1499\u001b[0m                 \u001b[0;32mor\u001b[0m \u001b[0m_global_backward_pre_hooks\u001b[0m \u001b[0;32mor\u001b[0m \u001b[0m_global_backward_hooks\u001b[0m\u001b[0;34m\u001b[0m\u001b[0;34m\u001b[0m\u001b[0m\n\u001b[1;32m   1500\u001b[0m                 or _global_forward_hooks or _global_forward_pre_hooks):\n\u001b[0;32m-> 1501\u001b[0;31m             \u001b[0;32mreturn\u001b[0m \u001b[0mforward_call\u001b[0m\u001b[0;34m(\u001b[0m\u001b[0;34m*\u001b[0m\u001b[0margs\u001b[0m\u001b[0;34m,\u001b[0m \u001b[0;34m**\u001b[0m\u001b[0mkwargs\u001b[0m\u001b[0;34m)\u001b[0m\u001b[0;34m\u001b[0m\u001b[0;34m\u001b[0m\u001b[0m\n\u001b[0m\u001b[1;32m   1502\u001b[0m         \u001b[0;31m# Do not call functions when jit is used\u001b[0m\u001b[0;34m\u001b[0m\u001b[0;34m\u001b[0m\u001b[0m\n\u001b[1;32m   1503\u001b[0m         \u001b[0mfull_backward_hooks\u001b[0m\u001b[0;34m,\u001b[0m \u001b[0mnon_full_backward_hooks\u001b[0m \u001b[0;34m=\u001b[0m \u001b[0;34m[\u001b[0m\u001b[0;34m]\u001b[0m\u001b[0;34m,\u001b[0m \u001b[0;34m[\u001b[0m\u001b[0;34m]\u001b[0m\u001b[0;34m\u001b[0m\u001b[0;34m\u001b[0m\u001b[0m\n",
            "\u001b[0;32m/usr/local/lib/python3.10/dist-packages/monai/networks/nets/unet.py\u001b[0m in \u001b[0;36mforward\u001b[0;34m(self, x)\u001b[0m\n\u001b[1;32m    301\u001b[0m \u001b[0;34m\u001b[0m\u001b[0m\n\u001b[1;32m    302\u001b[0m     \u001b[0;32mdef\u001b[0m \u001b[0mforward\u001b[0m\u001b[0;34m(\u001b[0m\u001b[0mself\u001b[0m\u001b[0;34m,\u001b[0m \u001b[0mx\u001b[0m\u001b[0;34m:\u001b[0m \u001b[0mtorch\u001b[0m\u001b[0;34m.\u001b[0m\u001b[0mTensor\u001b[0m\u001b[0;34m)\u001b[0m \u001b[0;34m->\u001b[0m \u001b[0mtorch\u001b[0m\u001b[0;34m.\u001b[0m\u001b[0mTensor\u001b[0m\u001b[0;34m:\u001b[0m\u001b[0;34m\u001b[0m\u001b[0;34m\u001b[0m\u001b[0m\n\u001b[0;32m--> 303\u001b[0;31m         \u001b[0mx\u001b[0m \u001b[0;34m=\u001b[0m \u001b[0mself\u001b[0m\u001b[0;34m.\u001b[0m\u001b[0mmodel\u001b[0m\u001b[0;34m(\u001b[0m\u001b[0mx\u001b[0m\u001b[0;34m)\u001b[0m\u001b[0;34m\u001b[0m\u001b[0;34m\u001b[0m\u001b[0m\n\u001b[0m\u001b[1;32m    304\u001b[0m         \u001b[0;32mreturn\u001b[0m \u001b[0mx\u001b[0m\u001b[0;34m\u001b[0m\u001b[0;34m\u001b[0m\u001b[0m\n\u001b[1;32m    305\u001b[0m \u001b[0;34m\u001b[0m\u001b[0m\n",
            "\u001b[0;32m/usr/local/lib/python3.10/dist-packages/torch/nn/modules/module.py\u001b[0m in \u001b[0;36m_call_impl\u001b[0;34m(self, *args, **kwargs)\u001b[0m\n\u001b[1;32m   1499\u001b[0m                 \u001b[0;32mor\u001b[0m \u001b[0m_global_backward_pre_hooks\u001b[0m \u001b[0;32mor\u001b[0m \u001b[0m_global_backward_hooks\u001b[0m\u001b[0;34m\u001b[0m\u001b[0;34m\u001b[0m\u001b[0m\n\u001b[1;32m   1500\u001b[0m                 or _global_forward_hooks or _global_forward_pre_hooks):\n\u001b[0;32m-> 1501\u001b[0;31m             \u001b[0;32mreturn\u001b[0m \u001b[0mforward_call\u001b[0m\u001b[0;34m(\u001b[0m\u001b[0;34m*\u001b[0m\u001b[0margs\u001b[0m\u001b[0;34m,\u001b[0m \u001b[0;34m**\u001b[0m\u001b[0mkwargs\u001b[0m\u001b[0;34m)\u001b[0m\u001b[0;34m\u001b[0m\u001b[0;34m\u001b[0m\u001b[0m\n\u001b[0m\u001b[1;32m   1502\u001b[0m         \u001b[0;31m# Do not call functions when jit is used\u001b[0m\u001b[0;34m\u001b[0m\u001b[0;34m\u001b[0m\u001b[0m\n\u001b[1;32m   1503\u001b[0m         \u001b[0mfull_backward_hooks\u001b[0m\u001b[0;34m,\u001b[0m \u001b[0mnon_full_backward_hooks\u001b[0m \u001b[0;34m=\u001b[0m \u001b[0;34m[\u001b[0m\u001b[0;34m]\u001b[0m\u001b[0;34m,\u001b[0m \u001b[0;34m[\u001b[0m\u001b[0;34m]\u001b[0m\u001b[0;34m\u001b[0m\u001b[0;34m\u001b[0m\u001b[0m\n",
            "\u001b[0;32m/usr/local/lib/python3.10/dist-packages/torch/nn/modules/container.py\u001b[0m in \u001b[0;36mforward\u001b[0;34m(self, input)\u001b[0m\n\u001b[1;32m    215\u001b[0m     \u001b[0;32mdef\u001b[0m \u001b[0mforward\u001b[0m\u001b[0;34m(\u001b[0m\u001b[0mself\u001b[0m\u001b[0;34m,\u001b[0m \u001b[0minput\u001b[0m\u001b[0;34m)\u001b[0m\u001b[0;34m:\u001b[0m\u001b[0;34m\u001b[0m\u001b[0;34m\u001b[0m\u001b[0m\n\u001b[1;32m    216\u001b[0m         \u001b[0;32mfor\u001b[0m \u001b[0mmodule\u001b[0m \u001b[0;32min\u001b[0m \u001b[0mself\u001b[0m\u001b[0;34m:\u001b[0m\u001b[0;34m\u001b[0m\u001b[0;34m\u001b[0m\u001b[0m\n\u001b[0;32m--> 217\u001b[0;31m             \u001b[0minput\u001b[0m \u001b[0;34m=\u001b[0m \u001b[0mmodule\u001b[0m\u001b[0;34m(\u001b[0m\u001b[0minput\u001b[0m\u001b[0;34m)\u001b[0m\u001b[0;34m\u001b[0m\u001b[0;34m\u001b[0m\u001b[0m\n\u001b[0m\u001b[1;32m    218\u001b[0m         \u001b[0;32mreturn\u001b[0m \u001b[0minput\u001b[0m\u001b[0;34m\u001b[0m\u001b[0;34m\u001b[0m\u001b[0m\n\u001b[1;32m    219\u001b[0m \u001b[0;34m\u001b[0m\u001b[0m\n",
            "\u001b[0;32m/usr/local/lib/python3.10/dist-packages/torch/nn/modules/module.py\u001b[0m in \u001b[0;36m_call_impl\u001b[0;34m(self, *args, **kwargs)\u001b[0m\n\u001b[1;32m   1499\u001b[0m                 \u001b[0;32mor\u001b[0m \u001b[0m_global_backward_pre_hooks\u001b[0m \u001b[0;32mor\u001b[0m \u001b[0m_global_backward_hooks\u001b[0m\u001b[0;34m\u001b[0m\u001b[0;34m\u001b[0m\u001b[0m\n\u001b[1;32m   1500\u001b[0m                 or _global_forward_hooks or _global_forward_pre_hooks):\n\u001b[0;32m-> 1501\u001b[0;31m             \u001b[0;32mreturn\u001b[0m \u001b[0mforward_call\u001b[0m\u001b[0;34m(\u001b[0m\u001b[0;34m*\u001b[0m\u001b[0margs\u001b[0m\u001b[0;34m,\u001b[0m \u001b[0;34m**\u001b[0m\u001b[0mkwargs\u001b[0m\u001b[0;34m)\u001b[0m\u001b[0;34m\u001b[0m\u001b[0;34m\u001b[0m\u001b[0m\n\u001b[0m\u001b[1;32m   1502\u001b[0m         \u001b[0;31m# Do not call functions when jit is used\u001b[0m\u001b[0;34m\u001b[0m\u001b[0;34m\u001b[0m\u001b[0m\n\u001b[1;32m   1503\u001b[0m         \u001b[0mfull_backward_hooks\u001b[0m\u001b[0;34m,\u001b[0m \u001b[0mnon_full_backward_hooks\u001b[0m \u001b[0;34m=\u001b[0m \u001b[0;34m[\u001b[0m\u001b[0;34m]\u001b[0m\u001b[0;34m,\u001b[0m \u001b[0;34m[\u001b[0m\u001b[0;34m]\u001b[0m\u001b[0;34m\u001b[0m\u001b[0;34m\u001b[0m\u001b[0m\n",
            "\u001b[0;32m/usr/local/lib/python3.10/dist-packages/monai/networks/layers/simplelayers.py\u001b[0m in \u001b[0;36mforward\u001b[0;34m(self, x)\u001b[0m\n\u001b[1;32m    127\u001b[0m \u001b[0;34m\u001b[0m\u001b[0m\n\u001b[1;32m    128\u001b[0m     \u001b[0;32mdef\u001b[0m \u001b[0mforward\u001b[0m\u001b[0;34m(\u001b[0m\u001b[0mself\u001b[0m\u001b[0;34m,\u001b[0m \u001b[0mx\u001b[0m\u001b[0;34m:\u001b[0m \u001b[0mtorch\u001b[0m\u001b[0;34m.\u001b[0m\u001b[0mTensor\u001b[0m\u001b[0;34m)\u001b[0m \u001b[0;34m->\u001b[0m \u001b[0mtorch\u001b[0m\u001b[0;34m.\u001b[0m\u001b[0mTensor\u001b[0m\u001b[0;34m:\u001b[0m\u001b[0;34m\u001b[0m\u001b[0;34m\u001b[0m\u001b[0m\n\u001b[0;32m--> 129\u001b[0;31m         \u001b[0my\u001b[0m \u001b[0;34m=\u001b[0m \u001b[0mself\u001b[0m\u001b[0;34m.\u001b[0m\u001b[0msubmodule\u001b[0m\u001b[0;34m(\u001b[0m\u001b[0mx\u001b[0m\u001b[0;34m)\u001b[0m\u001b[0;34m\u001b[0m\u001b[0;34m\u001b[0m\u001b[0m\n\u001b[0m\u001b[1;32m    130\u001b[0m \u001b[0;34m\u001b[0m\u001b[0m\n\u001b[1;32m    131\u001b[0m         \u001b[0;32mif\u001b[0m \u001b[0mself\u001b[0m\u001b[0;34m.\u001b[0m\u001b[0mmode\u001b[0m \u001b[0;34m==\u001b[0m \u001b[0;34m\"cat\"\u001b[0m\u001b[0;34m:\u001b[0m\u001b[0;34m\u001b[0m\u001b[0;34m\u001b[0m\u001b[0m\n",
            "\u001b[0;32m/usr/local/lib/python3.10/dist-packages/torch/nn/modules/module.py\u001b[0m in \u001b[0;36m_call_impl\u001b[0;34m(self, *args, **kwargs)\u001b[0m\n\u001b[1;32m   1499\u001b[0m                 \u001b[0;32mor\u001b[0m \u001b[0m_global_backward_pre_hooks\u001b[0m \u001b[0;32mor\u001b[0m \u001b[0m_global_backward_hooks\u001b[0m\u001b[0;34m\u001b[0m\u001b[0;34m\u001b[0m\u001b[0m\n\u001b[1;32m   1500\u001b[0m                 or _global_forward_hooks or _global_forward_pre_hooks):\n\u001b[0;32m-> 1501\u001b[0;31m             \u001b[0;32mreturn\u001b[0m \u001b[0mforward_call\u001b[0m\u001b[0;34m(\u001b[0m\u001b[0;34m*\u001b[0m\u001b[0margs\u001b[0m\u001b[0;34m,\u001b[0m \u001b[0;34m**\u001b[0m\u001b[0mkwargs\u001b[0m\u001b[0;34m)\u001b[0m\u001b[0;34m\u001b[0m\u001b[0;34m\u001b[0m\u001b[0m\n\u001b[0m\u001b[1;32m   1502\u001b[0m         \u001b[0;31m# Do not call functions when jit is used\u001b[0m\u001b[0;34m\u001b[0m\u001b[0;34m\u001b[0m\u001b[0m\n\u001b[1;32m   1503\u001b[0m         \u001b[0mfull_backward_hooks\u001b[0m\u001b[0;34m,\u001b[0m \u001b[0mnon_full_backward_hooks\u001b[0m \u001b[0;34m=\u001b[0m \u001b[0;34m[\u001b[0m\u001b[0;34m]\u001b[0m\u001b[0;34m,\u001b[0m \u001b[0;34m[\u001b[0m\u001b[0;34m]\u001b[0m\u001b[0;34m\u001b[0m\u001b[0;34m\u001b[0m\u001b[0m\n",
            "\u001b[0;32m/usr/local/lib/python3.10/dist-packages/torch/nn/modules/container.py\u001b[0m in \u001b[0;36mforward\u001b[0;34m(self, input)\u001b[0m\n\u001b[1;32m    215\u001b[0m     \u001b[0;32mdef\u001b[0m \u001b[0mforward\u001b[0m\u001b[0;34m(\u001b[0m\u001b[0mself\u001b[0m\u001b[0;34m,\u001b[0m \u001b[0minput\u001b[0m\u001b[0;34m)\u001b[0m\u001b[0;34m:\u001b[0m\u001b[0;34m\u001b[0m\u001b[0;34m\u001b[0m\u001b[0m\n\u001b[1;32m    216\u001b[0m         \u001b[0;32mfor\u001b[0m \u001b[0mmodule\u001b[0m \u001b[0;32min\u001b[0m \u001b[0mself\u001b[0m\u001b[0;34m:\u001b[0m\u001b[0;34m\u001b[0m\u001b[0;34m\u001b[0m\u001b[0m\n\u001b[0;32m--> 217\u001b[0;31m             \u001b[0minput\u001b[0m \u001b[0;34m=\u001b[0m \u001b[0mmodule\u001b[0m\u001b[0;34m(\u001b[0m\u001b[0minput\u001b[0m\u001b[0;34m)\u001b[0m\u001b[0;34m\u001b[0m\u001b[0;34m\u001b[0m\u001b[0m\n\u001b[0m\u001b[1;32m    218\u001b[0m         \u001b[0;32mreturn\u001b[0m \u001b[0minput\u001b[0m\u001b[0;34m\u001b[0m\u001b[0;34m\u001b[0m\u001b[0m\n\u001b[1;32m    219\u001b[0m \u001b[0;34m\u001b[0m\u001b[0m\n",
            "\u001b[0;32m/usr/local/lib/python3.10/dist-packages/torch/nn/modules/module.py\u001b[0m in \u001b[0;36m_call_impl\u001b[0;34m(self, *args, **kwargs)\u001b[0m\n\u001b[1;32m   1499\u001b[0m                 \u001b[0;32mor\u001b[0m \u001b[0m_global_backward_pre_hooks\u001b[0m \u001b[0;32mor\u001b[0m \u001b[0m_global_backward_hooks\u001b[0m\u001b[0;34m\u001b[0m\u001b[0;34m\u001b[0m\u001b[0m\n\u001b[1;32m   1500\u001b[0m                 or _global_forward_hooks or _global_forward_pre_hooks):\n\u001b[0;32m-> 1501\u001b[0;31m             \u001b[0;32mreturn\u001b[0m \u001b[0mforward_call\u001b[0m\u001b[0;34m(\u001b[0m\u001b[0;34m*\u001b[0m\u001b[0margs\u001b[0m\u001b[0;34m,\u001b[0m \u001b[0;34m**\u001b[0m\u001b[0mkwargs\u001b[0m\u001b[0;34m)\u001b[0m\u001b[0;34m\u001b[0m\u001b[0;34m\u001b[0m\u001b[0m\n\u001b[0m\u001b[1;32m   1502\u001b[0m         \u001b[0;31m# Do not call functions when jit is used\u001b[0m\u001b[0;34m\u001b[0m\u001b[0;34m\u001b[0m\u001b[0m\n\u001b[1;32m   1503\u001b[0m         \u001b[0mfull_backward_hooks\u001b[0m\u001b[0;34m,\u001b[0m \u001b[0mnon_full_backward_hooks\u001b[0m \u001b[0;34m=\u001b[0m \u001b[0;34m[\u001b[0m\u001b[0;34m]\u001b[0m\u001b[0;34m,\u001b[0m \u001b[0;34m[\u001b[0m\u001b[0;34m]\u001b[0m\u001b[0;34m\u001b[0m\u001b[0;34m\u001b[0m\u001b[0m\n",
            "\u001b[0;32m/usr/local/lib/python3.10/dist-packages/monai/networks/layers/simplelayers.py\u001b[0m in \u001b[0;36mforward\u001b[0;34m(self, x)\u001b[0m\n\u001b[1;32m    127\u001b[0m \u001b[0;34m\u001b[0m\u001b[0m\n\u001b[1;32m    128\u001b[0m     \u001b[0;32mdef\u001b[0m \u001b[0mforward\u001b[0m\u001b[0;34m(\u001b[0m\u001b[0mself\u001b[0m\u001b[0;34m,\u001b[0m \u001b[0mx\u001b[0m\u001b[0;34m:\u001b[0m \u001b[0mtorch\u001b[0m\u001b[0;34m.\u001b[0m\u001b[0mTensor\u001b[0m\u001b[0;34m)\u001b[0m \u001b[0;34m->\u001b[0m \u001b[0mtorch\u001b[0m\u001b[0;34m.\u001b[0m\u001b[0mTensor\u001b[0m\u001b[0;34m:\u001b[0m\u001b[0;34m\u001b[0m\u001b[0;34m\u001b[0m\u001b[0m\n\u001b[0;32m--> 129\u001b[0;31m         \u001b[0my\u001b[0m \u001b[0;34m=\u001b[0m \u001b[0mself\u001b[0m\u001b[0;34m.\u001b[0m\u001b[0msubmodule\u001b[0m\u001b[0;34m(\u001b[0m\u001b[0mx\u001b[0m\u001b[0;34m)\u001b[0m\u001b[0;34m\u001b[0m\u001b[0;34m\u001b[0m\u001b[0m\n\u001b[0m\u001b[1;32m    130\u001b[0m \u001b[0;34m\u001b[0m\u001b[0m\n\u001b[1;32m    131\u001b[0m         \u001b[0;32mif\u001b[0m \u001b[0mself\u001b[0m\u001b[0;34m.\u001b[0m\u001b[0mmode\u001b[0m \u001b[0;34m==\u001b[0m \u001b[0;34m\"cat\"\u001b[0m\u001b[0;34m:\u001b[0m\u001b[0;34m\u001b[0m\u001b[0;34m\u001b[0m\u001b[0m\n",
            "\u001b[0;32m/usr/local/lib/python3.10/dist-packages/torch/nn/modules/module.py\u001b[0m in \u001b[0;36m_call_impl\u001b[0;34m(self, *args, **kwargs)\u001b[0m\n\u001b[1;32m   1499\u001b[0m                 \u001b[0;32mor\u001b[0m \u001b[0m_global_backward_pre_hooks\u001b[0m \u001b[0;32mor\u001b[0m \u001b[0m_global_backward_hooks\u001b[0m\u001b[0;34m\u001b[0m\u001b[0;34m\u001b[0m\u001b[0m\n\u001b[1;32m   1500\u001b[0m                 or _global_forward_hooks or _global_forward_pre_hooks):\n\u001b[0;32m-> 1501\u001b[0;31m             \u001b[0;32mreturn\u001b[0m \u001b[0mforward_call\u001b[0m\u001b[0;34m(\u001b[0m\u001b[0;34m*\u001b[0m\u001b[0margs\u001b[0m\u001b[0;34m,\u001b[0m \u001b[0;34m**\u001b[0m\u001b[0mkwargs\u001b[0m\u001b[0;34m)\u001b[0m\u001b[0;34m\u001b[0m\u001b[0;34m\u001b[0m\u001b[0m\n\u001b[0m\u001b[1;32m   1502\u001b[0m         \u001b[0;31m# Do not call functions when jit is used\u001b[0m\u001b[0;34m\u001b[0m\u001b[0;34m\u001b[0m\u001b[0m\n\u001b[1;32m   1503\u001b[0m         \u001b[0mfull_backward_hooks\u001b[0m\u001b[0;34m,\u001b[0m \u001b[0mnon_full_backward_hooks\u001b[0m \u001b[0;34m=\u001b[0m \u001b[0;34m[\u001b[0m\u001b[0;34m]\u001b[0m\u001b[0;34m,\u001b[0m \u001b[0;34m[\u001b[0m\u001b[0;34m]\u001b[0m\u001b[0;34m\u001b[0m\u001b[0;34m\u001b[0m\u001b[0m\n",
            "\u001b[0;32m/usr/local/lib/python3.10/dist-packages/torch/nn/modules/container.py\u001b[0m in \u001b[0;36mforward\u001b[0;34m(self, input)\u001b[0m\n\u001b[1;32m    215\u001b[0m     \u001b[0;32mdef\u001b[0m \u001b[0mforward\u001b[0m\u001b[0;34m(\u001b[0m\u001b[0mself\u001b[0m\u001b[0;34m,\u001b[0m \u001b[0minput\u001b[0m\u001b[0;34m)\u001b[0m\u001b[0;34m:\u001b[0m\u001b[0;34m\u001b[0m\u001b[0;34m\u001b[0m\u001b[0m\n\u001b[1;32m    216\u001b[0m         \u001b[0;32mfor\u001b[0m \u001b[0mmodule\u001b[0m \u001b[0;32min\u001b[0m \u001b[0mself\u001b[0m\u001b[0;34m:\u001b[0m\u001b[0;34m\u001b[0m\u001b[0;34m\u001b[0m\u001b[0m\n\u001b[0;32m--> 217\u001b[0;31m             \u001b[0minput\u001b[0m \u001b[0;34m=\u001b[0m \u001b[0mmodule\u001b[0m\u001b[0;34m(\u001b[0m\u001b[0minput\u001b[0m\u001b[0;34m)\u001b[0m\u001b[0;34m\u001b[0m\u001b[0;34m\u001b[0m\u001b[0m\n\u001b[0m\u001b[1;32m    218\u001b[0m         \u001b[0;32mreturn\u001b[0m \u001b[0minput\u001b[0m\u001b[0;34m\u001b[0m\u001b[0;34m\u001b[0m\u001b[0m\n\u001b[1;32m    219\u001b[0m \u001b[0;34m\u001b[0m\u001b[0m\n",
            "\u001b[0;32m/usr/local/lib/python3.10/dist-packages/torch/nn/modules/module.py\u001b[0m in \u001b[0;36m_call_impl\u001b[0;34m(self, *args, **kwargs)\u001b[0m\n\u001b[1;32m   1499\u001b[0m                 \u001b[0;32mor\u001b[0m \u001b[0m_global_backward_pre_hooks\u001b[0m \u001b[0;32mor\u001b[0m \u001b[0m_global_backward_hooks\u001b[0m\u001b[0;34m\u001b[0m\u001b[0;34m\u001b[0m\u001b[0m\n\u001b[1;32m   1500\u001b[0m                 or _global_forward_hooks or _global_forward_pre_hooks):\n\u001b[0;32m-> 1501\u001b[0;31m             \u001b[0;32mreturn\u001b[0m \u001b[0mforward_call\u001b[0m\u001b[0;34m(\u001b[0m\u001b[0;34m*\u001b[0m\u001b[0margs\u001b[0m\u001b[0;34m,\u001b[0m \u001b[0;34m**\u001b[0m\u001b[0mkwargs\u001b[0m\u001b[0;34m)\u001b[0m\u001b[0;34m\u001b[0m\u001b[0;34m\u001b[0m\u001b[0m\n\u001b[0m\u001b[1;32m   1502\u001b[0m         \u001b[0;31m# Do not call functions when jit is used\u001b[0m\u001b[0;34m\u001b[0m\u001b[0;34m\u001b[0m\u001b[0m\n\u001b[1;32m   1503\u001b[0m         \u001b[0mfull_backward_hooks\u001b[0m\u001b[0;34m,\u001b[0m \u001b[0mnon_full_backward_hooks\u001b[0m \u001b[0;34m=\u001b[0m \u001b[0;34m[\u001b[0m\u001b[0;34m]\u001b[0m\u001b[0;34m,\u001b[0m \u001b[0;34m[\u001b[0m\u001b[0;34m]\u001b[0m\u001b[0;34m\u001b[0m\u001b[0;34m\u001b[0m\u001b[0m\n",
            "\u001b[0;32m/usr/local/lib/python3.10/dist-packages/monai/networks/layers/simplelayers.py\u001b[0m in \u001b[0;36mforward\u001b[0;34m(self, x)\u001b[0m\n\u001b[1;32m    130\u001b[0m \u001b[0;34m\u001b[0m\u001b[0m\n\u001b[1;32m    131\u001b[0m         \u001b[0;32mif\u001b[0m \u001b[0mself\u001b[0m\u001b[0;34m.\u001b[0m\u001b[0mmode\u001b[0m \u001b[0;34m==\u001b[0m \u001b[0;34m\"cat\"\u001b[0m\u001b[0;34m:\u001b[0m\u001b[0;34m\u001b[0m\u001b[0;34m\u001b[0m\u001b[0m\n\u001b[0;32m--> 132\u001b[0;31m             \u001b[0;32mreturn\u001b[0m \u001b[0mtorch\u001b[0m\u001b[0;34m.\u001b[0m\u001b[0mcat\u001b[0m\u001b[0;34m(\u001b[0m\u001b[0;34m[\u001b[0m\u001b[0mx\u001b[0m\u001b[0;34m,\u001b[0m \u001b[0my\u001b[0m\u001b[0;34m]\u001b[0m\u001b[0;34m,\u001b[0m \u001b[0mdim\u001b[0m\u001b[0;34m=\u001b[0m\u001b[0mself\u001b[0m\u001b[0;34m.\u001b[0m\u001b[0mdim\u001b[0m\u001b[0;34m)\u001b[0m\u001b[0;34m\u001b[0m\u001b[0;34m\u001b[0m\u001b[0m\n\u001b[0m\u001b[1;32m    133\u001b[0m         \u001b[0;32mif\u001b[0m \u001b[0mself\u001b[0m\u001b[0;34m.\u001b[0m\u001b[0mmode\u001b[0m \u001b[0;34m==\u001b[0m \u001b[0;34m\"add\"\u001b[0m\u001b[0;34m:\u001b[0m\u001b[0;34m\u001b[0m\u001b[0;34m\u001b[0m\u001b[0m\n\u001b[1;32m    134\u001b[0m             \u001b[0;32mreturn\u001b[0m \u001b[0mtorch\u001b[0m\u001b[0;34m.\u001b[0m\u001b[0madd\u001b[0m\u001b[0;34m(\u001b[0m\u001b[0mx\u001b[0m\u001b[0;34m,\u001b[0m \u001b[0my\u001b[0m\u001b[0;34m)\u001b[0m\u001b[0;34m\u001b[0m\u001b[0;34m\u001b[0m\u001b[0m\n",
            "\u001b[0;32m/usr/local/lib/python3.10/dist-packages/monai/data/meta_tensor.py\u001b[0m in \u001b[0;36m__torch_function__\u001b[0;34m(cls, func, types, args, kwargs)\u001b[0m\n\u001b[1;32m    280\u001b[0m         \u001b[0;32mif\u001b[0m \u001b[0mkwargs\u001b[0m \u001b[0;32mis\u001b[0m \u001b[0;32mNone\u001b[0m\u001b[0;34m:\u001b[0m\u001b[0;34m\u001b[0m\u001b[0;34m\u001b[0m\u001b[0m\n\u001b[1;32m    281\u001b[0m             \u001b[0mkwargs\u001b[0m \u001b[0;34m=\u001b[0m \u001b[0;34m{\u001b[0m\u001b[0;34m}\u001b[0m\u001b[0;34m\u001b[0m\u001b[0;34m\u001b[0m\u001b[0m\n\u001b[0;32m--> 282\u001b[0;31m         \u001b[0mret\u001b[0m \u001b[0;34m=\u001b[0m \u001b[0msuper\u001b[0m\u001b[0;34m(\u001b[0m\u001b[0;34m)\u001b[0m\u001b[0;34m.\u001b[0m\u001b[0m__torch_function__\u001b[0m\u001b[0;34m(\u001b[0m\u001b[0mfunc\u001b[0m\u001b[0;34m,\u001b[0m \u001b[0mtypes\u001b[0m\u001b[0;34m,\u001b[0m \u001b[0margs\u001b[0m\u001b[0;34m,\u001b[0m \u001b[0mkwargs\u001b[0m\u001b[0;34m)\u001b[0m\u001b[0;34m\u001b[0m\u001b[0;34m\u001b[0m\u001b[0m\n\u001b[0m\u001b[1;32m    283\u001b[0m         \u001b[0;31m# if `out` has been used as argument, metadata is not copied, nothing to do.\u001b[0m\u001b[0;34m\u001b[0m\u001b[0;34m\u001b[0m\u001b[0m\n\u001b[1;32m    284\u001b[0m         \u001b[0;31m# if \"out\" in kwargs:\u001b[0m\u001b[0;34m\u001b[0m\u001b[0;34m\u001b[0m\u001b[0m\n",
            "\u001b[0;32m/usr/local/lib/python3.10/dist-packages/torch/_tensor.py\u001b[0m in \u001b[0;36m__torch_function__\u001b[0;34m(cls, func, types, args, kwargs)\u001b[0m\n\u001b[1;32m   1293\u001b[0m \u001b[0;34m\u001b[0m\u001b[0m\n\u001b[1;32m   1294\u001b[0m         \u001b[0;32mwith\u001b[0m \u001b[0m_C\u001b[0m\u001b[0;34m.\u001b[0m\u001b[0mDisableTorchFunctionSubclass\u001b[0m\u001b[0;34m(\u001b[0m\u001b[0;34m)\u001b[0m\u001b[0;34m:\u001b[0m\u001b[0;34m\u001b[0m\u001b[0;34m\u001b[0m\u001b[0m\n\u001b[0;32m-> 1295\u001b[0;31m             \u001b[0mret\u001b[0m \u001b[0;34m=\u001b[0m \u001b[0mfunc\u001b[0m\u001b[0;34m(\u001b[0m\u001b[0;34m*\u001b[0m\u001b[0margs\u001b[0m\u001b[0;34m,\u001b[0m \u001b[0;34m**\u001b[0m\u001b[0mkwargs\u001b[0m\u001b[0;34m)\u001b[0m\u001b[0;34m\u001b[0m\u001b[0;34m\u001b[0m\u001b[0m\n\u001b[0m\u001b[1;32m   1296\u001b[0m             \u001b[0;32mif\u001b[0m \u001b[0mfunc\u001b[0m \u001b[0;32min\u001b[0m \u001b[0mget_default_nowrap_functions\u001b[0m\u001b[0;34m(\u001b[0m\u001b[0;34m)\u001b[0m\u001b[0;34m:\u001b[0m\u001b[0;34m\u001b[0m\u001b[0;34m\u001b[0m\u001b[0m\n\u001b[1;32m   1297\u001b[0m                 \u001b[0;32mreturn\u001b[0m \u001b[0mret\u001b[0m\u001b[0;34m\u001b[0m\u001b[0;34m\u001b[0m\u001b[0m\n",
            "\u001b[0;31mRuntimeError\u001b[0m: Sizes of tensors must match except in dimension 1. Expected size 9 but got size 10 for tensor number 1 in the list."
          ]
        }
      ],
      "source": [
        "max_epochs = 600\n",
        "val_interval = 2\n",
        "best_metric = -1\n",
        "best_metric_epoch = -1\n",
        "epoch_loss_values = []\n",
        "metric_values = []\n",
        "post_pred = Compose([AsDiscrete(argmax=True, to_onehot=2)])\n",
        "post_label = Compose([AsDiscrete(to_onehot=2)])\n",
        "\n",
        "for epoch in range(max_epochs):\n",
        "    print(\"-\" * 10)\n",
        "    print(f\"epoch {epoch + 1}/{max_epochs}\")\n",
        "    model.train()\n",
        "    epoch_loss = 0\n",
        "    step = 0\n",
        "    for batch_data in train_loader:\n",
        "        step += 1\n",
        "        inputs, labels = (\n",
        "            batch_data[\"image\"].to(device),\n",
        "            batch_data[\"label\"].to(device),\n",
        "        )\n",
        "        optimizer.zero_grad()\n",
        "        outputs = model(inputs)\n",
        "        loss = loss_function(outputs, labels)\n",
        "        loss.backward()\n",
        "        optimizer.step()\n",
        "        epoch_loss += loss.item()\n",
        "        print(f\"{step}/{len(train_ds) // train_loader.batch_size}, \" f\"train_loss: {loss.item():.4f}\")\n",
        "    epoch_loss /= step\n",
        "    epoch_loss_values.append(epoch_loss)\n",
        "    print(f\"epoch {epoch + 1} average loss: {epoch_loss:.4f}\")\n",
        "\n",
        "    if (epoch + 1) % val_interval == 0:\n",
        "        model.eval()\n",
        "        with torch.no_grad():\n",
        "            for val_data in val_loader:\n",
        "                val_inputs, val_labels = (\n",
        "                    val_data[\"image\"].to(device),\n",
        "                    val_data[\"label\"].to(device),\n",
        "                )\n",
        "                roi_size = (160, 160, 160)\n",
        "                sw_batch_size = 4\n",
        "                val_outputs = sliding_window_inference(val_inputs, roi_size, sw_batch_size, model)\n",
        "                val_outputs = [post_pred(i) for i in decollate_batch(val_outputs)]\n",
        "                val_labels = [post_label(i) for i in decollate_batch(val_labels)]\n",
        "                # compute metric for current iteration\n",
        "                dice_metric(y_pred=val_outputs, y=val_labels)\n",
        "\n",
        "            # aggregate the final mean dice result\n",
        "            metric = dice_metric.aggregate().item()\n",
        "            # reset the status for next validation round\n",
        "            dice_metric.reset()\n",
        "\n",
        "            metric_values.append(metric)\n",
        "            if metric > best_metric:\n",
        "                best_metric = metric\n",
        "                best_metric_epoch = epoch + 1\n",
        "                torch.save(model.state_dict(), os.path.join(root_dir, \"best_metric_model.pth\"))\n",
        "                print(\"saved new best metric model\")\n",
        "            print(\n",
        "                f\"current epoch: {epoch + 1} current mean dice: {metric:.4f}\"\n",
        "                f\"\\nbest mean dice: {best_metric:.4f} \"\n",
        "                f\"at epoch: {best_metric_epoch}\"\n",
        "            )"
      ]
    },
    {
      "cell_type": "code",
      "execution_count": null,
      "metadata": {
        "tags": [],
        "id": "j7C3WWLKq9pk"
      },
      "outputs": [],
      "source": [
        "print(f\"train completed, best_metric: {best_metric:.4f} \" f\"at epoch: {best_metric_epoch}\")"
      ]
    },
    {
      "cell_type": "markdown",
      "metadata": {
        "id": "zaSgK1qZq9pk"
      },
      "source": [
        "## Plot the loss and metric"
      ]
    },
    {
      "cell_type": "code",
      "execution_count": null,
      "metadata": {
        "id": "S1wOC59bq9pk"
      },
      "outputs": [],
      "source": [
        "plt.figure(\"train\", (12, 6))\n",
        "plt.subplot(1, 2, 1)\n",
        "plt.title(\"Epoch Average Loss\")\n",
        "x = [i + 1 for i in range(len(epoch_loss_values))]\n",
        "y = epoch_loss_values\n",
        "plt.xlabel(\"epoch\")\n",
        "plt.plot(x, y)\n",
        "plt.subplot(1, 2, 2)\n",
        "plt.title(\"Val Mean Dice\")\n",
        "x = [val_interval * (i + 1) for i in range(len(metric_values))]\n",
        "y = metric_values\n",
        "plt.xlabel(\"epoch\")\n",
        "plt.plot(x, y)\n",
        "plt.show()"
      ]
    },
    {
      "cell_type": "markdown",
      "metadata": {
        "id": "C-zCaGyxq9pk"
      },
      "source": [
        "## Check best model output with the input image and label"
      ]
    },
    {
      "cell_type": "code",
      "execution_count": null,
      "metadata": {
        "id": "g31pT_kZq9pk"
      },
      "outputs": [],
      "source": [
        "model.load_state_dict(torch.load(os.path.join(root_dir, \"best_metric_model.pth\")))\n",
        "model.eval()\n",
        "with torch.no_grad():\n",
        "    for i, val_data in enumerate(val_loader):\n",
        "        roi_size = (160, 160, 160)\n",
        "        sw_batch_size = 4\n",
        "        val_outputs = sliding_window_inference(val_data[\"image\"].to(device), roi_size, sw_batch_size, model)\n",
        "        # plot the slice [:, :, 80]\n",
        "        plt.figure(\"check\", (18, 6))\n",
        "        plt.subplot(1, 3, 1)\n",
        "        plt.title(f\"image {i}\")\n",
        "        plt.imshow(val_data[\"image\"][0, 0, :, :, 80], cmap=\"gray\")\n",
        "        plt.subplot(1, 3, 2)\n",
        "        plt.title(f\"label {i}\")\n",
        "        plt.imshow(val_data[\"label\"][0, 0, :, :, 80])\n",
        "        plt.subplot(1, 3, 3)\n",
        "        plt.title(f\"output {i}\")\n",
        "        plt.imshow(torch.argmax(val_outputs, dim=1).detach().cpu()[0, :, :, 80])\n",
        "        plt.show()\n",
        "        if i == 2:\n",
        "            break"
      ]
    },
    {
      "cell_type": "markdown",
      "metadata": {
        "id": "m7H14U_8q9pk"
      },
      "source": [
        "## Evaluation on original image spacings"
      ]
    },
    {
      "cell_type": "code",
      "execution_count": null,
      "metadata": {
        "id": "r_CcwYT9q9pk"
      },
      "outputs": [],
      "source": [
        "val_org_transforms = Compose(\n",
        "    [\n",
        "        LoadImaged(keys=[\"image\", \"label\"]),\n",
        "        EnsureChannelFirstd(keys=[\"image\", \"label\"]),\n",
        "        Orientationd(keys=[\"image\"], axcodes=\"RAS\"),\n",
        "        Spacingd(keys=[\"image\"], pixdim=(1.5, 1.5, 2.0), mode=\"bilinear\"),\n",
        "        ScaleIntensityRanged(\n",
        "            keys=[\"image\"],\n",
        "            a_min=-57,\n",
        "            a_max=164,\n",
        "            b_min=0.0,\n",
        "            b_max=1.0,\n",
        "            clip=True,\n",
        "        ),\n",
        "        CropForegroundd(keys=[\"image\"], source_key=\"image\"),\n",
        "    ]\n",
        ")\n",
        "\n",
        "val_org_ds = Dataset(data=val_files, transform=val_org_transforms)\n",
        "val_org_loader = DataLoader(val_org_ds, batch_size=1, num_workers=4)\n",
        "\n",
        "post_transforms = Compose(\n",
        "    [\n",
        "        Invertd(\n",
        "            keys=\"pred\",\n",
        "            transform=val_org_transforms,\n",
        "            orig_keys=\"image\",\n",
        "            meta_keys=\"pred_meta_dict\",\n",
        "            orig_meta_keys=\"image_meta_dict\",\n",
        "            meta_key_postfix=\"meta_dict\",\n",
        "            nearest_interp=False,\n",
        "            to_tensor=True,\n",
        "            device=\"cpu\",\n",
        "        ),\n",
        "        AsDiscreted(keys=\"pred\", argmax=True, to_onehot=2),\n",
        "        AsDiscreted(keys=\"label\", to_onehot=2),\n",
        "    ]\n",
        ")"
      ]
    },
    {
      "cell_type": "code",
      "execution_count": null,
      "metadata": {
        "id": "KorSK8qJq9pk"
      },
      "outputs": [],
      "source": [
        "model.load_state_dict(torch.load(os.path.join(root_dir, \"best_metric_model.pth\")))\n",
        "model.eval()\n",
        "\n",
        "with torch.no_grad():\n",
        "    for val_data in val_org_loader:\n",
        "        val_inputs = val_data[\"image\"].to(device)\n",
        "        roi_size = (160, 160, 160)\n",
        "        sw_batch_size = 4\n",
        "        val_data[\"pred\"] = sliding_window_inference(val_inputs, roi_size, sw_batch_size, model)\n",
        "        val_data = [post_transforms(i) for i in decollate_batch(val_data)]\n",
        "        val_outputs, val_labels = from_engine([\"pred\", \"label\"])(val_data)\n",
        "        # compute metric for current iteration\n",
        "        dice_metric(y_pred=val_outputs, y=val_labels)\n",
        "\n",
        "    # aggregate the final mean dice result\n",
        "    metric_org = dice_metric.aggregate().item()\n",
        "    # reset the status for next validation round\n",
        "    dice_metric.reset()\n",
        "\n",
        "print(\"Metric on original image spacing: \", metric_org)"
      ]
    },
    {
      "cell_type": "markdown",
      "metadata": {
        "id": "ddfeF4u0q9pk"
      },
      "source": [
        "## Inference on Test Set"
      ]
    },
    {
      "cell_type": "code",
      "execution_count": null,
      "metadata": {
        "id": "C6G-vauOq9pl"
      },
      "outputs": [],
      "source": [
        "test_images = sorted(glob.glob(os.path.join(data_dir, \"imagesTs\", \"*.nii.gz\")))\n",
        "\n",
        "test_data = [{\"image\": image} for image in test_images]\n",
        "\n",
        "\n",
        "test_org_transforms = Compose(\n",
        "    [\n",
        "        LoadImaged(keys=\"image\"),\n",
        "        EnsureChannelFirstd(keys=\"image\"),\n",
        "        Orientationd(keys=[\"image\"], axcodes=\"RAS\"),\n",
        "        Spacingd(keys=[\"image\"], pixdim=(1.5, 1.5, 2.0), mode=\"bilinear\"),\n",
        "        ScaleIntensityRanged(\n",
        "            keys=[\"image\"],\n",
        "            a_min=-57,\n",
        "            a_max=164,\n",
        "            b_min=0.0,\n",
        "            b_max=1.0,\n",
        "            clip=True,\n",
        "        ),\n",
        "        CropForegroundd(keys=[\"image\"], source_key=\"image\"),\n",
        "    ]\n",
        ")\n",
        "\n",
        "test_org_ds = Dataset(data=test_data, transform=test_org_transforms)\n",
        "\n",
        "test_org_loader = DataLoader(test_org_ds, batch_size=1, num_workers=4)\n",
        "\n",
        "post_transforms = Compose(\n",
        "    [\n",
        "        Invertd(\n",
        "            keys=\"pred\",\n",
        "            transform=test_org_transforms,\n",
        "            orig_keys=\"image\",\n",
        "            meta_keys=\"pred_meta_dict\",\n",
        "            orig_meta_keys=\"image_meta_dict\",\n",
        "            meta_key_postfix=\"meta_dict\",\n",
        "            nearest_interp=False,\n",
        "            to_tensor=True,\n",
        "        ),\n",
        "        AsDiscreted(keys=\"pred\", argmax=True, to_onehot=2),\n",
        "        SaveImaged(keys=\"pred\", meta_keys=\"pred_meta_dict\", output_dir=\"./out\", output_postfix=\"seg\", resample=False),\n",
        "    ]\n",
        ")"
      ]
    },
    {
      "cell_type": "code",
      "execution_count": null,
      "metadata": {
        "id": "h6h36mChq9pl"
      },
      "outputs": [],
      "source": [
        "# # uncomment the following lines to visualize the predicted results\n",
        "# from monai.transforms import LoadImage\n",
        "# loader = LoadImage()"
      ]
    },
    {
      "cell_type": "code",
      "execution_count": null,
      "metadata": {
        "id": "cyjD-cOTq9pl"
      },
      "outputs": [],
      "source": [
        "model.load_state_dict(torch.load(os.path.join(root_dir, \"best_metric_model.pth\")))\n",
        "model.eval()\n",
        "\n",
        "with torch.no_grad():\n",
        "    for test_data in test_org_loader:\n",
        "        test_inputs = test_data[\"image\"].to(device)\n",
        "        roi_size = (160, 160, 160)\n",
        "        sw_batch_size = 4\n",
        "        test_data[\"pred\"] = sliding_window_inference(test_inputs, roi_size, sw_batch_size, model)\n",
        "\n",
        "        test_data = [post_transforms(i) for i in decollate_batch(test_data)]\n",
        "\n",
        "#         # uncomment the following lines to visualize the predicted results\n",
        "#         test_output = from_engine([\"pred\"])(test_data)\n",
        "\n",
        "#         original_image = loader(test_output[0].meta[\"filename_or_obj\"])\n",
        "\n",
        "#         plt.figure(\"check\", (18, 6))\n",
        "#         plt.subplot(1, 2, 1)\n",
        "#         plt.imshow(original_image[:, :, 20], cmap=\"gray\")\n",
        "#         plt.subplot(1, 2, 2)\n",
        "#         plt.imshow(test_output[0].detach().cpu()[1, :, :, 20])\n",
        "#         plt.show()"
      ]
    },
    {
      "cell_type": "markdown",
      "metadata": {
        "id": "3cCYs6wMq9pl"
      },
      "source": [
        "## Cleanup data directory\n",
        "\n",
        "Remove directory if a temporary was used."
      ]
    },
    {
      "cell_type": "code",
      "execution_count": null,
      "metadata": {
        "id": "KoqOCn-iq9pl"
      },
      "outputs": [],
      "source": [
        "if directory is None:\n",
        "    shutil.rmtree(root_dir)"
      ]
    },
    {
      "cell_type": "code",
      "source": [],
      "metadata": {
        "id": "p_U2E_jfJ4sj"
      },
      "execution_count": null,
      "outputs": []
    }
  ],
  "metadata": {
    "kernelspec": {
      "display_name": "Python 3",
      "name": "python3"
    },
    "language_info": {
      "codemirror_mode": {
        "name": "ipython",
        "version": 3
      },
      "file_extension": ".py",
      "mimetype": "text/x-python",
      "name": "python",
      "nbconvert_exporter": "python",
      "pygments_lexer": "ipython3",
      "version": "3.8.13"
    },
    "colab": {
      "provenance": [],
      "machine_shape": "hm",
      "gpuType": "V100",
      "include_colab_link": true
    },
    "accelerator": "GPU"
  },
  "nbformat": 4,
  "nbformat_minor": 0
}